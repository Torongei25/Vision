{
  "nbformat": 4,
  "nbformat_minor": 0,
  "metadata": {
    "colab": {
      "provenance": [],
      "authorship_tag": "ABX9TyNThU6EWTxvm2/7LfB5fAnt",
      "include_colab_link": true
    },
    "kernelspec": {
      "name": "python3",
      "display_name": "Python 3"
    },
    "language_info": {
      "name": "python"
    }
  },
  "cells": [
    {
      "cell_type": "markdown",
      "metadata": {
        "id": "view-in-github",
        "colab_type": "text"
      },
      "source": [
        "<a href=\"https://colab.research.google.com/github/Torongei25/Vision/blob/main/Torongei.ipynb\" target=\"_parent\"><img src=\"https://colab.research.google.com/assets/colab-badge.svg\" alt=\"Open In Colab\"/></a>"
      ]
    },
    {
      "cell_type": "code",
      "execution_count": null,
      "metadata": {
        "colab": {
          "base_uri": "https://localhost:8080/"
        },
        "id": "I-NrZZFyE9lx",
        "outputId": "b7cd665e-ba8f-4357-a43d-b36e4af95440"
      },
      "outputs": [
        {
          "output_type": "stream",
          "name": "stdout",
          "text": [
            "Hello World\n"
          ]
        }
      ],
      "source": [
        "print(\"Hello World\")"
      ]
    },
    {
      "cell_type": "code",
      "source": [
        "print(\"Hello World!\")"
      ],
      "metadata": {
        "colab": {
          "base_uri": "https://localhost:8080/"
        },
        "id": "aqEMGGknF8Dz",
        "outputId": "d35656dc-1cf5-4ed6-87ac-2196b853adeb"
      },
      "execution_count": null,
      "outputs": [
        {
          "output_type": "stream",
          "name": "stdout",
          "text": [
            "Hello World!\n"
          ]
        }
      ]
    },
    {
      "cell_type": "markdown",
      "source": [
        "print function is used to output something in a program"
      ],
      "metadata": {
        "id": "3ln50kMHLC7T"
      }
    },
    {
      "cell_type": "code",
      "source": [
        "print(\"Good morning Gilbert\")"
      ],
      "metadata": {
        "colab": {
          "base_uri": "https://localhost:8080/"
        },
        "id": "zg2-NBsTLPBz",
        "outputId": "644c4e18-c463-4ccc-e73b-0788a4da4877"
      },
      "execution_count": null,
      "outputs": [
        {
          "output_type": "stream",
          "name": "stdout",
          "text": [
            "Good morning Gilbert\n"
          ]
        }
      ]
    },
    {
      "cell_type": "code",
      "source": [
        "# kindly print the name of my wife\n",
        "print(\"Daisy Kirui\")"
      ],
      "metadata": {
        "colab": {
          "base_uri": "https://localhost:8080/"
        },
        "id": "SJ3QmU25LbDL",
        "outputId": "14f69919-1fa0-43c3-a101-68eb6c25be92"
      },
      "execution_count": null,
      "outputs": [
        {
          "output_type": "stream",
          "name": "stdout",
          "text": [
            "Daisy Kirui\n"
          ]
        }
      ]
    },
    {
      "cell_type": "code",
      "source": [
        "print(\"Mike\")\n",
        "print(\"Tye\")\n",
        "print(\"Tosin\")"
      ],
      "metadata": {
        "colab": {
          "base_uri": "https://localhost:8080/"
        },
        "id": "vvKq9HALOpyU",
        "outputId": "1c653616-ad39-43b3-f151-ab591c8cd8bb"
      },
      "execution_count": null,
      "outputs": [
        {
          "output_type": "stream",
          "name": "stdout",
          "text": [
            "Mike\n",
            "Tye\n",
            "Tosin\n"
          ]
        }
      ]
    },
    {
      "cell_type": "markdown",
      "source": [
        "*Variables*\n",
        "variables are containers for holding a data types.\n",
        "what a varible should be made up\n",
        "1. name\n",
        "2. assignment operator\n",
        "3. should hold a data type\n",
        "\n",
        "Naming conventions\n",
        "1. pascal naming\n",
        "2. camel case\n",
        "3. snakecase\n"
      ],
      "metadata": {
        "id": "jV-rObv5QUEi"
      }
    },
    {
      "cell_type": "code",
      "source": [
        "name = (\"Gilbert\")"
      ],
      "metadata": {
        "id": "ZyMp7O8wQmI7"
      },
      "execution_count": null,
      "outputs": []
    },
    {
      "cell_type": "code",
      "source": [
        "name"
      ],
      "metadata": {
        "colab": {
          "base_uri": "https://localhost:8080/",
          "height": 35
        },
        "id": "VlakVS-cR7Db",
        "outputId": "5ce784a6-c141-4753-9d73-650e2d12529f"
      },
      "execution_count": null,
      "outputs": [
        {
          "output_type": "execute_result",
          "data": {
            "text/plain": [
              "'Gilbert'"
            ],
            "application/vnd.google.colaboratory.intrinsic+json": {
              "type": "string"
            }
          },
          "metadata": {},
          "execution_count": 140
        }
      ]
    },
    {
      "cell_type": "code",
      "source": [
        "#Pascal naming\n",
        "NumberOfCar = 2"
      ],
      "metadata": {
        "id": "2w_w1LZiR_J5"
      },
      "execution_count": null,
      "outputs": []
    },
    {
      "cell_type": "code",
      "source": [
        "NumberOfCar"
      ],
      "metadata": {
        "colab": {
          "base_uri": "https://localhost:8080/"
        },
        "id": "yy7EU0K0SqS5",
        "outputId": "0e7531be-ef6b-44b6-c1c8-7aaad3ed87c6"
      },
      "execution_count": null,
      "outputs": [
        {
          "output_type": "execute_result",
          "data": {
            "text/plain": [
              "2"
            ]
          },
          "metadata": {},
          "execution_count": 142
        }
      ]
    },
    {
      "cell_type": "code",
      "source": [
        "#Camel case naming\n",
        "numberOfCar = 3"
      ],
      "metadata": {
        "id": "KV247Z_9Su4J"
      },
      "execution_count": null,
      "outputs": []
    },
    {
      "cell_type": "code",
      "source": [
        "numberOfCar"
      ],
      "metadata": {
        "colab": {
          "base_uri": "https://localhost:8080/"
        },
        "id": "SSU0QSz-S30B",
        "outputId": "e8098c39-62e6-466d-efd1-60b2042b3344"
      },
      "execution_count": null,
      "outputs": [
        {
          "output_type": "execute_result",
          "data": {
            "text/plain": [
              "3"
            ]
          },
          "metadata": {},
          "execution_count": 144
        }
      ]
    },
    {
      "cell_type": "code",
      "source": [
        "#snake case\n",
        "number_of_car = 30"
      ],
      "metadata": {
        "id": "2AoqjEZ1TTqh"
      },
      "execution_count": null,
      "outputs": []
    },
    {
      "cell_type": "code",
      "source": [
        "number_of_car"
      ],
      "metadata": {
        "colab": {
          "base_uri": "https://localhost:8080/"
        },
        "id": "Q6pfv4PmTfqK",
        "outputId": "e20fbc63-2940-413d-e833-e0eb3e80f9eb"
      },
      "execution_count": null,
      "outputs": [
        {
          "output_type": "execute_result",
          "data": {
            "text/plain": [
              "30"
            ]
          },
          "metadata": {},
          "execution_count": 146
        }
      ]
    },
    {
      "cell_type": "markdown",
      "source": [
        "Python reads through and display the last one"
      ],
      "metadata": {
        "id": "94Y2DbzCXRDS"
      }
    },
    {
      "cell_type": "code",
      "source": [
        "number_of_car\n",
        "numberOfCar\n",
        "NumberOfCar"
      ],
      "metadata": {
        "colab": {
          "base_uri": "https://localhost:8080/"
        },
        "id": "YyFcw-YvTifK",
        "outputId": "a061d167-b49c-46c7-caea-5abd404c49f8"
      },
      "execution_count": null,
      "outputs": [
        {
          "output_type": "execute_result",
          "data": {
            "text/plain": [
              "2"
            ]
          },
          "metadata": {},
          "execution_count": 147
        }
      ]
    },
    {
      "cell_type": "markdown",
      "source": [
        "its printing because its a variable name is holding a data type"
      ],
      "metadata": {
        "id": "-mHwl0jaYAEi"
      }
    },
    {
      "cell_type": "code",
      "source": [
        "print(number_of_car)\n",
        "print(numberOfCar)\n",
        "print(NumberOfCar)"
      ],
      "metadata": {
        "colab": {
          "base_uri": "https://localhost:8080/"
        },
        "outputId": "cafdfc65-f391-4435-e6b1-798a96c4625b",
        "id": "wQY14oNTXfrO"
      },
      "execution_count": null,
      "outputs": [
        {
          "output_type": "stream",
          "name": "stdout",
          "text": [
            "30\n",
            "3\n",
            "2\n"
          ]
        }
      ]
    },
    {
      "cell_type": "markdown",
      "source": [
        "Data types\n",
        "1. numeric data type\n",
        "-intergers (int) >> -ve to +ve whole numbers\n",
        "-floating point = float >> -ve to +ve decimal numbers\n",
        "-complex number =comp\n",
        "2. string is a sequence of character/text in a quote eg \"namme\",\"world\" it can be single, double or tripple qoutes character\n",
        "3. Boolean data type includes\n",
        "a) True\n",
        "b) False\n"
      ],
      "metadata": {
        "id": "v3c882H4daW7"
      }
    },
    {
      "cell_type": "code",
      "source": [
        "#int data type\n",
        "num= -59"
      ],
      "metadata": {
        "id": "RoDaxjZ7d1jR"
      },
      "execution_count": null,
      "outputs": []
    },
    {
      "cell_type": "code",
      "source": [
        "num"
      ],
      "metadata": {
        "colab": {
          "base_uri": "https://localhost:8080/"
        },
        "id": "LnrtBof-d7nk",
        "outputId": "6d183a35-d08b-464f-9658-b6d5fff948ad"
      },
      "execution_count": null,
      "outputs": [
        {
          "output_type": "execute_result",
          "data": {
            "text/plain": [
              "-59"
            ]
          },
          "metadata": {},
          "execution_count": 150
        }
      ]
    },
    {
      "cell_type": "code",
      "source": [
        "#float data type\n",
        "num2=4.5"
      ],
      "metadata": {
        "id": "eA-pII2SeAIp"
      },
      "execution_count": null,
      "outputs": []
    },
    {
      "cell_type": "code",
      "source": [
        "num3=-3.9"
      ],
      "metadata": {
        "id": "aIpETApceX3f"
      },
      "execution_count": null,
      "outputs": []
    },
    {
      "cell_type": "code",
      "source": [
        "#complex number\n",
        "comp=5+3j"
      ],
      "metadata": {
        "id": "GBtw9G4heaZr"
      },
      "execution_count": null,
      "outputs": []
    },
    {
      "cell_type": "code",
      "source": [
        "comp"
      ],
      "metadata": {
        "colab": {
          "base_uri": "https://localhost:8080/"
        },
        "id": "3s0gwu4MeloC",
        "outputId": "f9e46fba-259c-4e4a-c830-f8f18ca29ec6"
      },
      "execution_count": null,
      "outputs": [
        {
          "output_type": "execute_result",
          "data": {
            "text/plain": [
              "(5+3j)"
            ]
          },
          "metadata": {},
          "execution_count": 154
        }
      ]
    },
    {
      "cell_type": "code",
      "source": [
        "-5.5+3.3-3j"
      ],
      "metadata": {
        "colab": {
          "base_uri": "https://localhost:8080/"
        },
        "id": "UvvbBw8OenmT",
        "outputId": "0b824a90-a9ce-4fca-f37c-8fa5bb9d7500"
      },
      "execution_count": null,
      "outputs": [
        {
          "output_type": "execute_result",
          "data": {
            "text/plain": [
              "(-2.2-3j)"
            ]
          },
          "metadata": {},
          "execution_count": 155
        }
      ]
    },
    {
      "cell_type": "code",
      "source": [
        "#string data types (str)\n",
        "\"Hello professor\"\n",
        "'Hello professor'\n"
      ],
      "metadata": {
        "colab": {
          "base_uri": "https://localhost:8080/",
          "height": 35
        },
        "id": "ZJDaEwgUez9i",
        "outputId": "b0a4c477-2342-4f53-9040-020971e89e33"
      },
      "execution_count": null,
      "outputs": [
        {
          "output_type": "execute_result",
          "data": {
            "text/plain": [
              "'Hello professor'"
            ],
            "application/vnd.google.colaboratory.intrinsic+json": {
              "type": "string"
            }
          },
          "metadata": {},
          "execution_count": 158
        }
      ]
    },
    {
      "cell_type": "code",
      "source": [
        "print(\"Hello professor\")"
      ],
      "metadata": {
        "colab": {
          "base_uri": "https://localhost:8080/"
        },
        "id": "NKqkuCHDgSQK",
        "outputId": "dfe31d3c-b55a-49a2-bf07-5ca6f133a6fa"
      },
      "execution_count": null,
      "outputs": [
        {
          "output_type": "stream",
          "name": "stdout",
          "text": [
            "Hello professor\n"
          ]
        }
      ]
    },
    {
      "cell_type": "code",
      "source": [
        "print(\"Hello professor\")\n",
        "'Hello professor'"
      ],
      "metadata": {
        "colab": {
          "base_uri": "https://localhost:8080/",
          "height": 53
        },
        "id": "ZIXyS-JGgvPT",
        "outputId": "cca3da27-42a0-4a17-9aba-48cfd3ab1af5"
      },
      "execution_count": null,
      "outputs": [
        {
          "output_type": "stream",
          "name": "stdout",
          "text": [
            "Hello professor\n"
          ]
        },
        {
          "output_type": "execute_result",
          "data": {
            "text/plain": [
              "'Hello professor'"
            ],
            "application/vnd.google.colaboratory.intrinsic+json": {
              "type": "string"
            }
          },
          "metadata": {},
          "execution_count": 160
        }
      ]
    },
    {
      "cell_type": "code",
      "source": [
        "#boolean data type\n",
        "True"
      ],
      "metadata": {
        "colab": {
          "base_uri": "https://localhost:8080/"
        },
        "id": "G4xa_nq5hBYe",
        "outputId": "5e130a4f-2011-4819-87ae-71b7efe4fe97"
      },
      "execution_count": null,
      "outputs": [
        {
          "output_type": "execute_result",
          "data": {
            "text/plain": [
              "True"
            ]
          },
          "metadata": {},
          "execution_count": 161
        }
      ]
    },
    {
      "cell_type": "code",
      "source": [
        "False"
      ],
      "metadata": {
        "colab": {
          "base_uri": "https://localhost:8080/"
        },
        "id": "hrojZhwWhYsM",
        "outputId": "13089c70-f213-449a-b008-03eef8348fc1"
      },
      "execution_count": null,
      "outputs": [
        {
          "output_type": "execute_result",
          "data": {
            "text/plain": [
              "False"
            ]
          },
          "metadata": {},
          "execution_count": 162
        }
      ]
    },
    {
      "cell_type": "markdown",
      "source": [
        "Getting input from users\n",
        "input"
      ],
      "metadata": {
        "id": "oCuAOBdYjCw5"
      }
    },
    {
      "cell_type": "code",
      "source": [
        "print(2)"
      ],
      "metadata": {
        "colab": {
          "base_uri": "https://localhost:8080/"
        },
        "id": "I0E05-L8jNNS",
        "outputId": "e4c81fad-5c81-482c-fdd0-90831c767b28"
      },
      "execution_count": null,
      "outputs": [
        {
          "output_type": "stream",
          "name": "stdout",
          "text": [
            "2\n"
          ]
        }
      ]
    },
    {
      "cell_type": "code",
      "source": [
        "print(\"Python\")"
      ],
      "metadata": {
        "colab": {
          "base_uri": "https://localhost:8080/"
        },
        "id": "artRfCwrjPjQ",
        "outputId": "c831dd1d-e7a0-400d-82c9-3683286c11b4"
      },
      "execution_count": null,
      "outputs": [
        {
          "output_type": "stream",
          "name": "stdout",
          "text": [
            "Python\n"
          ]
        }
      ]
    },
    {
      "cell_type": "code",
      "source": [
        "print (1+2)"
      ],
      "metadata": {
        "colab": {
          "base_uri": "https://localhost:8080/"
        },
        "id": "g2NYC9iZjT3y",
        "outputId": "2daa092c-cf1b-445d-ca5f-68bf8ad1b3c7"
      },
      "execution_count": null,
      "outputs": [
        {
          "output_type": "stream",
          "name": "stdout",
          "text": [
            "3\n"
          ]
        }
      ]
    },
    {
      "cell_type": "code",
      "source": [
        "input()"
      ],
      "metadata": {
        "colab": {
          "base_uri": "https://localhost:8080/",
          "height": 53
        },
        "id": "jSlpHuafjYZ8",
        "outputId": "310ee64f-51eb-4ef8-8f75-de91f1553b8f"
      },
      "execution_count": null,
      "outputs": [
        {
          "name": "stdout",
          "output_type": "stream",
          "text": [
            "1+2\n"
          ]
        },
        {
          "output_type": "execute_result",
          "data": {
            "text/plain": [
              "'1+2'"
            ],
            "application/vnd.google.colaboratory.intrinsic+json": {
              "type": "string"
            }
          },
          "metadata": {},
          "execution_count": 166
        }
      ]
    },
    {
      "cell_type": "code",
      "source": [
        "input ()"
      ],
      "metadata": {
        "colab": {
          "base_uri": "https://localhost:8080/",
          "height": 53
        },
        "id": "NU_-0grkjdJw",
        "outputId": "8283c12c-6adb-4b8e-ffcb-47ed9ff09273"
      },
      "execution_count": null,
      "outputs": [
        {
          "name": "stdout",
          "output_type": "stream",
          "text": [
            "\"Hello, how are you?\"\n"
          ]
        },
        {
          "output_type": "execute_result",
          "data": {
            "text/plain": [
              "'\"Hello, how are you?\"'"
            ],
            "application/vnd.google.colaboratory.intrinsic+json": {
              "type": "string"
            }
          },
          "metadata": {},
          "execution_count": 167
        }
      ]
    },
    {
      "cell_type": "code",
      "source": [
        "input(\"How old are you?\")"
      ],
      "metadata": {
        "colab": {
          "base_uri": "https://localhost:8080/",
          "height": 53
        },
        "id": "_qJeZ3J8jmGL",
        "outputId": "a52fe159-e90c-4923-81e4-98ea3f34f738"
      },
      "execution_count": null,
      "outputs": [
        {
          "name": "stdout",
          "output_type": "stream",
          "text": [
            "How old are you?30\n"
          ]
        },
        {
          "output_type": "execute_result",
          "data": {
            "text/plain": [
              "'30'"
            ],
            "application/vnd.google.colaboratory.intrinsic+json": {
              "type": "string"
            }
          },
          "metadata": {},
          "execution_count": 168
        }
      ]
    },
    {
      "cell_type": "code",
      "source": [
        "my_name = input(\"what are thou name? \")"
      ],
      "metadata": {
        "colab": {
          "base_uri": "https://localhost:8080/"
        },
        "id": "PwnbZFChkOu1",
        "outputId": "528b36dc-011c-4fe6-b666-8746fc5e8d4b"
      },
      "execution_count": null,
      "outputs": [
        {
          "name": "stdout",
          "output_type": "stream",
          "text": [
            "what are thou name? Daisy Kirui\n"
          ]
        }
      ]
    },
    {
      "cell_type": "code",
      "source": [
        "my_name"
      ],
      "metadata": {
        "colab": {
          "base_uri": "https://localhost:8080/",
          "height": 35
        },
        "id": "pLuaZe6Eknk_",
        "outputId": "80f66b4b-1105-41f0-d983-c3a4a3394ae0"
      },
      "execution_count": null,
      "outputs": [
        {
          "output_type": "execute_result",
          "data": {
            "text/plain": [
              "'Daisy Kirui'"
            ],
            "application/vnd.google.colaboratory.intrinsic+json": {
              "type": "string"
            }
          },
          "metadata": {},
          "execution_count": 174
        }
      ]
    },
    {
      "cell_type": "code",
      "source": [
        "my_school = input(\"\")"
      ],
      "metadata": {
        "colab": {
          "base_uri": "https://localhost:8080/"
        },
        "id": "7bdaSld4k0VO",
        "outputId": "dd580f33-9b86-4fbb-c012-a056a24539a6"
      },
      "execution_count": null,
      "outputs": [
        {
          "name": "stdout",
          "output_type": "stream",
          "text": [
            "Tabain\n"
          ]
        }
      ]
    },
    {
      "cell_type": "code",
      "source": [
        "print(my_school)"
      ],
      "metadata": {
        "colab": {
          "base_uri": "https://localhost:8080/"
        },
        "id": "EOcbiq07nNFE",
        "outputId": "5ce2446e-e725-4013-ceab-0f4901afb3ba"
      },
      "execution_count": null,
      "outputs": [
        {
          "output_type": "stream",
          "name": "stdout",
          "text": [
            "Tabain\n"
          ]
        }
      ]
    },
    {
      "cell_type": "code",
      "source": [
        "username = input (\"Enter your name \")"
      ],
      "metadata": {
        "colab": {
          "base_uri": "https://localhost:8080/"
        },
        "id": "mrirCts4nXwT",
        "outputId": "5f8a54db-20f4-41e7-d3b5-252178bda8c4"
      },
      "execution_count": null,
      "outputs": [
        {
          "name": "stdout",
          "output_type": "stream",
          "text": [
            "Enter your name Gilbert Kirui\n"
          ]
        }
      ]
    },
    {
      "cell_type": "code",
      "source": [
        "#ask user for their name, age, and height and print the sentence using commas"
      ],
      "metadata": {
        "id": "CuvsPzNlnrPw"
      },
      "execution_count": null,
      "outputs": []
    },
    {
      "cell_type": "code",
      "source": [
        "name = input(\"Enter your name: \")"
      ],
      "metadata": {
        "colab": {
          "base_uri": "https://localhost:8080/"
        },
        "id": "729-IPK9lto3",
        "outputId": "b2c9a5e6-753e-400a-f24e-ac4c2610fe84"
      },
      "execution_count": null,
      "outputs": [
        {
          "name": "stdout",
          "output_type": "stream",
          "text": [
            "Enter your name: Gilbert Kirui\n"
          ]
        }
      ]
    },
    {
      "cell_type": "code",
      "source": [
        "age = input(\"Enter your age: \")"
      ],
      "metadata": {
        "colab": {
          "base_uri": "https://localhost:8080/"
        },
        "id": "ZkBkn6Sol8HE",
        "outputId": "fe0d445f-3249-4cdb-eb34-7b71a51b9f47"
      },
      "execution_count": null,
      "outputs": [
        {
          "name": "stdout",
          "output_type": "stream",
          "text": [
            "Enter your age: 28 years\n"
          ]
        }
      ]
    },
    {
      "cell_type": "code",
      "source": [
        "height = input(\"Enter yoour height in centimetres: \")"
      ],
      "metadata": {
        "colab": {
          "base_uri": "https://localhost:8080/"
        },
        "id": "_C9U9MoTmMi_",
        "outputId": "7d07ecd4-ad6c-498b-ef7c-7ebd75ce7097"
      },
      "execution_count": null,
      "outputs": [
        {
          "name": "stdout",
          "output_type": "stream",
          "text": [
            "Enter yoour height in centimetres: 160 cm\n"
          ]
        }
      ]
    },
    {
      "cell_type": "code",
      "source": [
        "#print the sentence using the collected data using commas"
      ],
      "metadata": {
        "id": "8FtfUSlemePP"
      },
      "execution_count": null,
      "outputs": []
    },
    {
      "cell_type": "code",
      "source": [
        "print(\"Hi \" + name + \", you are \" + age + \" years old and \" + height + \" tall.\")"
      ],
      "metadata": {
        "colab": {
          "base_uri": "https://localhost:8080/"
        },
        "id": "cm_ZuyQCmoez",
        "outputId": "d7c02b92-e307-46b0-dbfc-faf36c733c8a"
      },
      "execution_count": null,
      "outputs": [
        {
          "output_type": "stream",
          "name": "stdout",
          "text": [
            "Hi Gilbert Kirui, you are 28 years years old and 160 cm tall.\n"
          ]
        }
      ]
    },
    {
      "cell_type": "markdown",
      "source": [
        "Week 1 class 2\n",
        "\n",
        "recap of the assignment"
      ],
      "metadata": {
        "id": "2-J8mhjoQJrt"
      }
    },
    {
      "cell_type": "code",
      "source": [
        "name = input(\"What is your name? \")\n",
        "age = input (\"How old are you? \")\n",
        "height =input(\"How tall are you? \")\n",
        "print (\"Hi\", name,\"you are\", age, \"years old\", height,\"cm tall\")"
      ],
      "metadata": {
        "colab": {
          "base_uri": "https://localhost:8080/"
        },
        "id": "sxGBnZiQVxi0",
        "outputId": "cc1ae007-9511-4c08-df88-168cbea15c53"
      },
      "execution_count": null,
      "outputs": [
        {
          "output_type": "stream",
          "name": "stdout",
          "text": [
            "What is your name? Daisy Kirui\n",
            "How old are you? 25 years\n",
            "How tall are you? 150 cm\n",
            "Hi Daisy Kirui you are 25 years years old 150 cm cm tall\n"
          ]
        }
      ]
    },
    {
      "cell_type": "code",
      "source": [
        "#f strings it let you easily insert  variables or experessiomns easily"
      ],
      "metadata": {
        "id": "SOLhb0SuWfos"
      },
      "execution_count": null,
      "outputs": []
    },
    {
      "cell_type": "markdown",
      "source": [],
      "metadata": {
        "id": "UyY1f8KTXQVi"
      }
    },
    {
      "cell_type": "code",
      "source": [
        "name = input(\"What is your name? \")\n",
        "age = input (\"How old are you? \")\n",
        "height =input(\"How tall are you? \")\n",
        "print(f\"Hi {name} you are {age} years old {height}  tall\")"
      ],
      "metadata": {
        "colab": {
          "base_uri": "https://localhost:8080/"
        },
        "id": "8t2M-ZhDXZq7",
        "outputId": "103901ef-4f55-4313-e8c1-af756fac62f2"
      },
      "execution_count": null,
      "outputs": [
        {
          "output_type": "stream",
          "name": "stdout",
          "text": [
            "What is your name? Michael Moon\n",
            "How old are you? 75\n",
            "How tall are you? 167 cm\n",
            "Hi Michael Moon you are 75 years old 167 cm  tall\n"
          ]
        }
      ]
    },
    {
      "cell_type": "code",
      "source": [
        "starting_balance = input(\"starting balance:\")\n",
        "final_balance = str(\"staring balance+100\")\n",
        "print (f\"final balance: (final_balance)\")"
      ],
      "metadata": {
        "colab": {
          "base_uri": "https://localhost:8080/"
        },
        "id": "Kq_Bi291YHkA",
        "outputId": "d58fd256-665b-4ef6-9bf6-7a1141f438c5"
      },
      "execution_count": null,
      "outputs": [
        {
          "output_type": "stream",
          "name": "stdout",
          "text": [
            "starting balance:2000\n",
            "final balance: (final_balance)\n"
          ]
        }
      ]
    },
    {
      "cell_type": "code",
      "source": [
        "no_of_goods= int(\"234\")\n",
        "float(\"2.5\")"
      ],
      "metadata": {
        "colab": {
          "base_uri": "https://localhost:8080/"
        },
        "id": "dEcG1L2EZfub",
        "outputId": "1f013fde-5f31-4ebd-d3ee-49877ed0433d"
      },
      "execution_count": null,
      "outputs": [
        {
          "output_type": "execute_result",
          "data": {
            "text/plain": [
              "2.5"
            ]
          },
          "metadata": {},
          "execution_count": 8
        }
      ]
    },
    {
      "cell_type": "code",
      "source": [
        "print(int(\"2\"))\n",
        "print(\"Hello\")"
      ],
      "metadata": {
        "colab": {
          "base_uri": "https://localhost:8080/"
        },
        "id": "9zK9JEN9af0M",
        "outputId": "d3a4ba63-e3cd-495a-d430-22d50b27591f"
      },
      "execution_count": null,
      "outputs": [
        {
          "output_type": "stream",
          "name": "stdout",
          "text": [
            "2\n",
            "Hello\n"
          ]
        }
      ]
    },
    {
      "cell_type": "code",
      "source": [
        "int(\"3\")"
      ],
      "metadata": {
        "colab": {
          "base_uri": "https://localhost:8080/"
        },
        "id": "82dLPoJBcgIo",
        "outputId": "976254b0-8990-4080-af32-9b34b13d0ba3"
      },
      "execution_count": null,
      "outputs": [
        {
          "output_type": "execute_result",
          "data": {
            "text/plain": [
              "3"
            ]
          },
          "metadata": {},
          "execution_count": 10
        }
      ]
    },
    {
      "cell_type": "code",
      "source": [
        "float(\"2.0\")"
      ],
      "metadata": {
        "colab": {
          "base_uri": "https://localhost:8080/"
        },
        "id": "APE_wTsZdDIy",
        "outputId": "dde54790-49f0-442b-d4d2-15bf6eed58ef"
      },
      "execution_count": null,
      "outputs": [
        {
          "output_type": "execute_result",
          "data": {
            "text/plain": [
              "2.0"
            ]
          },
          "metadata": {},
          "execution_count": 14
        }
      ]
    },
    {
      "cell_type": "code",
      "source": [
        "str(2.0)"
      ],
      "metadata": {
        "colab": {
          "base_uri": "https://localhost:8080/",
          "height": 35
        },
        "id": "MSjFkDePdOhC",
        "outputId": "92d2294d-683c-4d90-94d0-31fdfbeaf7c9"
      },
      "execution_count": null,
      "outputs": [
        {
          "output_type": "execute_result",
          "data": {
            "text/plain": [
              "'2.0'"
            ],
            "application/vnd.google.colaboratory.intrinsic+json": {
              "type": "string"
            }
          },
          "metadata": {},
          "execution_count": 15
        }
      ]
    },
    {
      "cell_type": "code",
      "source": [
        "bool(\"false\")"
      ],
      "metadata": {
        "colab": {
          "base_uri": "https://localhost:8080/"
        },
        "id": "pwKy_Lildj00",
        "outputId": "b07022c3-b6f6-402e-bf6d-60b287d4e6cb"
      },
      "execution_count": null,
      "outputs": [
        {
          "output_type": "execute_result",
          "data": {
            "text/plain": [
              "True"
            ]
          },
          "metadata": {},
          "execution_count": 16
        }
      ]
    },
    {
      "cell_type": "code",
      "source": [
        "cost_price =float(input(\"cost price: \"))\n",
        "profit = cost_price * 0.2\n",
        "selling_price = profit + cost_price\n",
        "print(f\"selling  price: {selling_price}\")"
      ],
      "metadata": {
        "colab": {
          "base_uri": "https://localhost:8080/"
        },
        "id": "wzEmOs4wduHg",
        "outputId": "e22e4a55-b379-4855-edf5-170780243a12"
      },
      "execution_count": null,
      "outputs": [
        {
          "output_type": "stream",
          "name": "stdout",
          "text": [
            "cost price: 3000\n",
            "selling  price: 3600.0\n"
          ]
        }
      ]
    },
    {
      "cell_type": "code",
      "source": [
        "total_money_shared = 6000\n",
        "total_people_to_share_with = 200\n",
        "int(total_money_shared/total_people_to_share_with)"
      ],
      "metadata": {
        "colab": {
          "base_uri": "https://localhost:8080/"
        },
        "id": "X1r2ktkejLpi",
        "outputId": "b898a851-09f3-47b6-abca-96ec667dcbba"
      },
      "execution_count": null,
      "outputs": [
        {
          "output_type": "execute_result",
          "data": {
            "text/plain": [
              "30"
            ]
          },
          "metadata": {},
          "execution_count": 20
        }
      ]
    },
    {
      "cell_type": "code",
      "source": [
        "principal = 10000\n",
        "interest_rate = 25/100\n",
        "time_in_years = 3\n",
        "interest = (principal * interest_rate * time_in_years)\n",
        "print(interest)"
      ],
      "metadata": {
        "colab": {
          "base_uri": "https://localhost:8080/"
        },
        "id": "sdFDbyTXkPtj",
        "outputId": "c41c39e2-c4fd-4acf-afcb-eb3e05f1a001"
      },
      "execution_count": null,
      "outputs": [
        {
          "output_type": "stream",
          "name": "stdout",
          "text": [
            "7500.0\n"
          ]
        }
      ]
    },
    {
      "cell_type": "code",
      "source": [
        "wins = 4\n",
        "losses = 2\n",
        "draws = 3\n",
        "points_per_win = 3\n",
        "points_per_draw = 1\n",
        "points_per_loss = 0\n",
        "total_points = (wins* points_per_win) + (losses* points_per_loss) +(draws * points_per_draw)\n",
        "print(total_points)"
      ],
      "metadata": {
        "colab": {
          "base_uri": "https://localhost:8080/"
        },
        "id": "rgGlknRGpYfO",
        "outputId": "e22d31b3-0426-4257-ee26-4d809722c635"
      },
      "execution_count": null,
      "outputs": [
        {
          "output_type": "stream",
          "name": "stdout",
          "text": [
            "15\n"
          ]
        }
      ]
    },
    {
      "cell_type": "code",
      "source": [
        "above_18 = True\n",
        "has_invite = False\n",
        "above_18 and has_invite"
      ],
      "metadata": {
        "colab": {
          "base_uri": "https://localhost:8080/"
        },
        "id": "RRhxZIiStraH",
        "outputId": "4cda01aa-675f-4a23-9519-45a1643e0563"
      },
      "execution_count": null,
      "outputs": [
        {
          "output_type": "execute_result",
          "data": {
            "text/plain": [
              "False"
            ]
          },
          "metadata": {},
          "execution_count": 28
        }
      ]
    },
    {
      "cell_type": "code",
      "source": [
        "#kenya win\n",
        "#nigeria loss\n",
        "#goal_difference\n",
        "kenya_win = True\n",
        "good_goal_difference = True\n",
        "nigeria_lose = False\n",
        "kenya_win and good_goal_difference\n",
        "\n"
      ],
      "metadata": {
        "colab": {
          "base_uri": "https://localhost:8080/"
        },
        "id": "kb1oIaZQxBU-",
        "outputId": "63fcc214-815f-4c33-8c69-8fc0d0336c6f"
      },
      "execution_count": null,
      "outputs": [
        {
          "output_type": "execute_result",
          "data": {
            "text/plain": [
              "True"
            ]
          },
          "metadata": {},
          "execution_count": 29
        }
      ]
    },
    {
      "cell_type": "code",
      "source": [
        "you_like_the_person= True\n",
        "person_likes_you_back =False\n",
        "you_like_the_person or person_likes_you_back # you are a kidnapper"
      ],
      "metadata": {
        "colab": {
          "base_uri": "https://localhost:8080/"
        },
        "id": "UGWwuGwDyA70",
        "outputId": "fcf63706-b588-4055-c662-96ef58ed2c76"
      },
      "execution_count": null,
      "outputs": [
        {
          "output_type": "execute_result",
          "data": {
            "text/plain": [
              "True"
            ]
          },
          "metadata": {},
          "execution_count": 30
        }
      ]
    },
    {
      "cell_type": "code",
      "source": [
        "smells_nice = True\n",
        "has_meat = True\n",
        "light_red_in_color =True\n",
        "smoky_smell = True\n",
        "is_soft = True\n",
        "ghana_jollof = not smells_nice and not is_soft or not smoky_smell\n",
        "print(ghana_jollof)"
      ],
      "metadata": {
        "colab": {
          "base_uri": "https://localhost:8080/"
        },
        "id": "-HFPYZ1iy5HI",
        "outputId": "b74b351c-f0a7-49a6-99dd-882c3dab3888"
      },
      "execution_count": null,
      "outputs": [
        {
          "output_type": "stream",
          "name": "stdout",
          "text": [
            "False\n"
          ]
        }
      ]
    },
    {
      "cell_type": "code",
      "source": [
        "12>=12"
      ],
      "metadata": {
        "colab": {
          "base_uri": "https://localhost:8080/"
        },
        "id": "bzP9IbBrz-b7",
        "outputId": "4931e399-b471-43cc-89b2-6a9999ecaf3f"
      },
      "execution_count": null,
      "outputs": [
        {
          "output_type": "execute_result",
          "data": {
            "text/plain": [
              "True"
            ]
          },
          "metadata": {},
          "execution_count": 33
        }
      ]
    },
    {
      "cell_type": "code",
      "source": [
        "x = 10\n",
        "y = 3\n",
        "x%y"
      ],
      "metadata": {
        "colab": {
          "base_uri": "https://localhost:8080/"
        },
        "id": "Mh1aLuzc1xN0",
        "outputId": "b4382106-d61e-44c2-e88a-e332451f48d3"
      },
      "execution_count": null,
      "outputs": [
        {
          "output_type": "execute_result",
          "data": {
            "text/plain": [
              "1"
            ]
          },
          "metadata": {},
          "execution_count": 36
        }
      ]
    },
    {
      "cell_type": "code",
      "source": [
        "x = int(\"25\")\n",
        "print (x)"
      ],
      "metadata": {
        "colab": {
          "base_uri": "https://localhost:8080/"
        },
        "id": "oIgt5xCj2BWl",
        "outputId": "628ca9c6-48a1-4355-e78f-a1dc90087d92"
      },
      "execution_count": null,
      "outputs": [
        {
          "output_type": "stream",
          "name": "stdout",
          "text": [
            "25\n"
          ]
        }
      ]
    },
    {
      "cell_type": "code",
      "source": [
        "bool (52)"
      ],
      "metadata": {
        "colab": {
          "base_uri": "https://localhost:8080/"
        },
        "id": "JKM2BJB_2c48",
        "outputId": "e8742afa-60df-4573-b48b-60fea9ae8d0f"
      },
      "execution_count": null,
      "outputs": [
        {
          "output_type": "execute_result",
          "data": {
            "text/plain": [
              "True"
            ]
          },
          "metadata": {},
          "execution_count": 38
        }
      ]
    },
    {
      "cell_type": "code",
      "source": [
        "a = 2+3*4\n",
        "print(a)"
      ],
      "metadata": {
        "colab": {
          "base_uri": "https://localhost:8080/"
        },
        "id": "c2-dZ9IZ2oMb",
        "outputId": "e818a480-3a2d-48f6-e9ad-6f8403aa075f"
      },
      "execution_count": null,
      "outputs": [
        {
          "output_type": "stream",
          "name": "stdout",
          "text": [
            "14\n"
          ]
        }
      ]
    },
    {
      "cell_type": "code",
      "source": [
        "5!=5"
      ],
      "metadata": {
        "colab": {
          "base_uri": "https://localhost:8080/"
        },
        "id": "hXWL7E2021fi",
        "outputId": "1b152208-2c14-46a6-c161-255463b97005"
      },
      "execution_count": null,
      "outputs": [
        {
          "output_type": "execute_result",
          "data": {
            "text/plain": [
              "False"
            ]
          },
          "metadata": {},
          "execution_count": 40
        }
      ]
    },
    {
      "cell_type": "code",
      "source": [
        "10<3"
      ],
      "metadata": {
        "colab": {
          "base_uri": "https://localhost:8080/"
        },
        "id": "5-SlrcQr3DbX",
        "outputId": "43837891-af00-460a-f221-7c73107353a9"
      },
      "execution_count": null,
      "outputs": [
        {
          "output_type": "execute_result",
          "data": {
            "text/plain": [
              "False"
            ]
          },
          "metadata": {},
          "execution_count": 41
        }
      ]
    },
    {
      "cell_type": "code",
      "source": [
        "7==7"
      ],
      "metadata": {
        "colab": {
          "base_uri": "https://localhost:8080/"
        },
        "id": "SmKrF0Xb3Gok",
        "outputId": "66b354c9-b04f-4b16-f21c-868215804a6f"
      },
      "execution_count": null,
      "outputs": [
        {
          "output_type": "execute_result",
          "data": {
            "text/plain": [
              "True"
            ]
          },
          "metadata": {},
          "execution_count": 42
        }
      ]
    },
    {
      "cell_type": "code",
      "source": [
        "8>10"
      ],
      "metadata": {
        "colab": {
          "base_uri": "https://localhost:8080/"
        },
        "id": "yQw_THBF3Iv5",
        "outputId": "5564f5fa-b333-49dd-8bcc-9fedc5b07686"
      },
      "execution_count": null,
      "outputs": [
        {
          "output_type": "execute_result",
          "data": {
            "text/plain": [
              "False"
            ]
          },
          "metadata": {},
          "execution_count": 43
        }
      ]
    },
    {
      "cell_type": "code",
      "source": [
        "(3==3)and (2!=2)"
      ],
      "metadata": {
        "colab": {
          "base_uri": "https://localhost:8080/"
        },
        "id": "FPQFDEhf3Lpr",
        "outputId": "c11fcc73-371e-4f75-d500-8657740fbe01"
      },
      "execution_count": null,
      "outputs": [
        {
          "output_type": "execute_result",
          "data": {
            "text/plain": [
              "False"
            ]
          },
          "metadata": {},
          "execution_count": 44
        }
      ]
    },
    {
      "cell_type": "code",
      "source": [
        "(10>5)and (5>8)"
      ],
      "metadata": {
        "colab": {
          "base_uri": "https://localhost:8080/"
        },
        "id": "r_a8fXVn3gzN",
        "outputId": "876a3ac2-24f5-4314-9070-498b79f1ea5a"
      },
      "execution_count": null,
      "outputs": [
        {
          "output_type": "execute_result",
          "data": {
            "text/plain": [
              "False"
            ]
          },
          "metadata": {},
          "execution_count": 48
        }
      ]
    },
    {
      "cell_type": "code",
      "source": [
        "(10>5) or (5>8)"
      ],
      "metadata": {
        "colab": {
          "base_uri": "https://localhost:8080/"
        },
        "id": "mdzAYxN23mlu",
        "outputId": "03632745-f948-4160-cc41-eaac697e306b"
      },
      "execution_count": null,
      "outputs": [
        {
          "output_type": "execute_result",
          "data": {
            "text/plain": [
              "True"
            ]
          },
          "metadata": {},
          "execution_count": 49
        }
      ]
    },
    {
      "cell_type": "code",
      "source": [
        "not(10>5)"
      ],
      "metadata": {
        "colab": {
          "base_uri": "https://localhost:8080/"
        },
        "id": "TcvmsRrB3sd7",
        "outputId": "6121c36c-da7e-46e6-985e-4db87fbc4e57"
      },
      "execution_count": null,
      "outputs": [
        {
          "output_type": "execute_result",
          "data": {
            "text/plain": [
              "False"
            ]
          },
          "metadata": {},
          "execution_count": 47
        }
      ]
    },
    {
      "cell_type": "code",
      "source": [
        "bool(-1)"
      ],
      "metadata": {
        "colab": {
          "base_uri": "https://localhost:8080/"
        },
        "id": "9n44SOyC3vdh",
        "outputId": "11ba7278-8d09-41a0-9eca-64998f5a2ec9"
      },
      "execution_count": null,
      "outputs": [
        {
          "output_type": "execute_result",
          "data": {
            "text/plain": [
              "True"
            ]
          },
          "metadata": {},
          "execution_count": 50
        }
      ]
    },
    {
      "cell_type": "code",
      "source": [
        "bool(0.1)"
      ],
      "metadata": {
        "colab": {
          "base_uri": "https://localhost:8080/"
        },
        "id": "-O6lm-7M4S33",
        "outputId": "03bd91f6-32d3-4268-f65a-f6bb211fbad3"
      },
      "execution_count": null,
      "outputs": [
        {
          "output_type": "execute_result",
          "data": {
            "text/plain": [
              "True"
            ]
          },
          "metadata": {},
          "execution_count": 51
        }
      ]
    },
    {
      "cell_type": "code",
      "source": [
        "bool(0)"
      ],
      "metadata": {
        "colab": {
          "base_uri": "https://localhost:8080/"
        },
        "id": "v5i2TCs24WZ6",
        "outputId": "2741f3f7-ce8a-4f45-cea5-0ca4730e7c4a"
      },
      "execution_count": null,
      "outputs": [
        {
          "output_type": "execute_result",
          "data": {
            "text/plain": [
              "False"
            ]
          },
          "metadata": {},
          "execution_count": 52
        }
      ]
    },
    {
      "cell_type": "code",
      "source": [
        "bool(\"\")"
      ],
      "metadata": {
        "colab": {
          "base_uri": "https://localhost:8080/"
        },
        "id": "WpjupyZy4ZKV",
        "outputId": "6b859d1e-2c24-44bc-bd55-d6403cab5f99"
      },
      "execution_count": null,
      "outputs": [
        {
          "output_type": "execute_result",
          "data": {
            "text/plain": [
              "False"
            ]
          },
          "metadata": {},
          "execution_count": 53
        }
      ]
    },
    {
      "cell_type": "code",
      "source": [
        "bool (45)"
      ],
      "metadata": {
        "colab": {
          "base_uri": "https://localhost:8080/"
        },
        "id": "Cqb-HlYW4cm6",
        "outputId": "879b036d-7d27-4153-ab3b-8677be9620d1"
      },
      "execution_count": null,
      "outputs": [
        {
          "output_type": "execute_result",
          "data": {
            "text/plain": [
              "True"
            ]
          },
          "metadata": {},
          "execution_count": 54
        }
      ]
    },
    {
      "cell_type": "code",
      "source": [
        "result = (3+2)*2**2\n",
        "print(result)"
      ],
      "metadata": {
        "colab": {
          "base_uri": "https://localhost:8080/"
        },
        "id": "0dPMh3Kn4rGo",
        "outputId": "59b19f87-2a53-4b6a-c0c1-066f85e0c986"
      },
      "execution_count": null,
      "outputs": [
        {
          "output_type": "stream",
          "name": "stdout",
          "text": [
            "20\n"
          ]
        }
      ]
    },
    {
      "cell_type": "code",
      "source": [
        "# A= p(I+(R/N)^NT\n",
        "principal = float(input(\"enter starting amount:\"))\n",
        "rate = float(input(\"enter interest rate: \"))\n",
        "number_of_times_compounded = int(input(\"Enter compound frequency: \"))\n",
        "time = float(input(\"enter number of years: \"))\n",
        "amount = principal*(1+(rate/number_of_times_compounded)**(number_of_times_compounded *time))\n",
        "print(f\"Toatl amount: {amount}\")"
      ],
      "metadata": {
        "id": "eXNbJnda43X6",
        "colab": {
          "base_uri": "https://localhost:8080/"
        },
        "outputId": "bdf52b6b-62ac-4354-f093-0aab7568a980"
      },
      "execution_count": null,
      "outputs": [
        {
          "output_type": "stream",
          "name": "stdout",
          "text": [
            "enter starting amount:35000\n",
            "enter interest rate: 23.4\n",
            "Enter compound frequency: 12\n",
            "enter number of years: 2\n",
            "Toatl amount: 319814952400.0447\n"
          ]
        }
      ]
    },
    {
      "cell_type": "markdown",
      "source": [
        "control flow >> collect input>make opertation with input> print output\n",
        "3 ways\n",
        "1. conditional - execute specific statemenst if condition is given.\n",
        "2. looping\n",
        "3. Branching\n"
      ],
      "metadata": {
        "id": "M8DBmwDuM890"
      }
    },
    {
      "cell_type": "code",
      "source": [
        "#age for voting\n",
        "age = 12"
      ],
      "metadata": {
        "id": "Cce4PMl-OGBo"
      },
      "execution_count": null,
      "outputs": []
    },
    {
      "cell_type": "code",
      "source": [
        "if age>= 18:\n",
        "  print(\"choose your age\")"
      ],
      "metadata": {
        "id": "f1AF1FQSOw7c"
      },
      "execution_count": null,
      "outputs": []
    },
    {
      "cell_type": "code",
      "source": [
        "age = 22\n",
        "if age >=18:\n",
        "  print(\"choose your age\")"
      ],
      "metadata": {
        "colab": {
          "base_uri": "https://localhost:8080/"
        },
        "id": "qluBeszoPLMJ",
        "outputId": "abb92164-89aa-455e-e8d9-0855bc2d9dee"
      },
      "execution_count": null,
      "outputs": [
        {
          "output_type": "stream",
          "name": "stdout",
          "text": [
            "choose your age\n"
          ]
        }
      ]
    },
    {
      "cell_type": "code",
      "source": [
        "bank_balance = 200000\n",
        "if bank_balance > 200000:\n",
        "  print(\"Get a black card today\")"
      ],
      "metadata": {
        "id": "Ok-LFa9SPV0R"
      },
      "execution_count": null,
      "outputs": []
    },
    {
      "cell_type": "code",
      "source": [
        "teacher_around = True\n",
        "classroom_available = False\n",
        "time_reasonable = True\n",
        "asuu_strike = True\n",
        "teacher_busy = False\n",
        "clashing_classes = True\n",
        "\n",
        "# if teacher_around == True and asuu_strike == False:\n",
        "#   print(\"Class is happening\")\n",
        "\n",
        "if classroom_available == True and clashing_classes == False:\n",
        "  print(\"There is class today\")\n"
      ],
      "metadata": {
        "id": "jUSCShuuSsEn"
      },
      "execution_count": null,
      "outputs": []
    },
    {
      "cell_type": "code",
      "source": [
        "bank_balance = 1000\n",
        "if bank_balance <= 10000:\n",
        "  print (\"Go and buy tomatoes\")"
      ],
      "metadata": {
        "colab": {
          "base_uri": "https://localhost:8080/"
        },
        "id": "vj5h24i_UP6p",
        "outputId": "1537c92e-5b5f-47ad-ee83-da33faaae586"
      },
      "execution_count": null,
      "outputs": [
        {
          "output_type": "stream",
          "name": "stdout",
          "text": [
            "Go and buy tomatoes\n"
          ]
        }
      ]
    },
    {
      "cell_type": "code",
      "source": [
        "there_is_credit_alert = True\n",
        "if there_is_credit_alert:\n",
        "  print(\"Salary seen\")\n",
        "else:\n",
        "  print(\"Hang tight\")"
      ],
      "metadata": {
        "colab": {
          "base_uri": "https://localhost:8080/"
        },
        "id": "Ux4EBxFxWPIx",
        "outputId": "a2b3cf66-4947-43d0-b962-d7ba80e8df97"
      },
      "execution_count": null,
      "outputs": [
        {
          "output_type": "stream",
          "name": "stdout",
          "text": [
            "Salary seen\n"
          ]
        }
      ]
    },
    {
      "cell_type": "code",
      "source": [
        "gift= \"biscuit\"\n",
        "score = 80\n",
        "if score >75:\n",
        "  print(f\"take your(gift)\")\n",
        "else:\n",
        "    print(\"try again next semester\")\n"
      ],
      "metadata": {
        "colab": {
          "base_uri": "https://localhost:8080/"
        },
        "id": "6Xjjk5cdXPSl",
        "outputId": "f0e9b3d9-d1bb-4184-99a6-b88642516a7c"
      },
      "execution_count": null,
      "outputs": [
        {
          "output_type": "stream",
          "name": "stdout",
          "text": [
            "take your(gift)\n"
          ]
        }
      ]
    },
    {
      "cell_type": "code",
      "source": [
        "has_free_food = True\n",
        "if has_free_food:\n",
        "  print (\"I'll be there\")\n",
        "else:\n",
        "         print(\"I'll be there\")"
      ],
      "metadata": {
        "colab": {
          "base_uri": "https://localhost:8080/"
        },
        "id": "gdse22D9YM67",
        "outputId": "0cb74c93-fb63-4517-c30f-b4e44108b8a4"
      },
      "execution_count": null,
      "outputs": [
        {
          "output_type": "stream",
          "name": "stdout",
          "text": [
            "I'll be there\n"
          ]
        }
      ]
    },
    {
      "cell_type": "code",
      "source": [
        "want_peace = False\n",
        "if want_peace:\n",
        "  print(\"have some peace\")\n",
        "else:\n",
        "  print(\"problem always\")"
      ],
      "metadata": {
        "colab": {
          "base_uri": "https://localhost:8080/"
        },
        "id": "r2Rp7c-QYsIj",
        "outputId": "9abaefeb-2311-4a19-dfde-79f1ec7755d4"
      },
      "execution_count": null,
      "outputs": [
        {
          "output_type": "stream",
          "name": "stdout",
          "text": [
            "problem always\n"
          ]
        }
      ]
    },
    {
      "cell_type": "markdown",
      "source": [
        "IF..ELIF..ELSE"
      ],
      "metadata": {
        "id": "3bSKooxfaHGZ"
      }
    },
    {
      "cell_type": "code",
      "source": [
        "attendance = 80\n",
        "if attendance > 90:\n",
        "  print (\"present\")\n",
        "elif attendance > 70:\n",
        "  print(\"somewhat present\")\n",
        "else:\n",
        "  print(\"are you still a student\")\n"
      ],
      "metadata": {
        "colab": {
          "base_uri": "https://localhost:8080/"
        },
        "id": "N_CCvqupaJWi",
        "outputId": "6917f64c-746d-48e6-a5fa-d46634a9b6fc"
      },
      "execution_count": null,
      "outputs": [
        {
          "output_type": "stream",
          "name": "stdout",
          "text": [
            "somewhat present\n"
          ]
        }
      ]
    },
    {
      "cell_type": "code",
      "source": [
        "hunger_level = 4\n",
        "\n",
        "if hunger_level > 8 and hunger_level < 10:\n",
        "  print(\"You need fufu immediately\")\n",
        "elif hunger_level > 5 and hunger_level < 7:\n",
        "  print(\"Lets make noodles\")\n",
        "elif hunger_level < 5:\n",
        "  print(\"Take some cornflakes\")\n",
        "else:\n",
        "  print(\"Are you even human?\")"
      ],
      "metadata": {
        "colab": {
          "base_uri": "https://localhost:8080/"
        },
        "id": "jLTcg82ukTF2",
        "outputId": "10a99f52-b3e4-49c0-d533-00be25d247da"
      },
      "execution_count": null,
      "outputs": [
        {
          "output_type": "stream",
          "name": "stdout",
          "text": [
            "Take some cornflakes\n"
          ]
        }
      ]
    },
    {
      "cell_type": "code",
      "source": [
        "alert = \"tax\"\n",
        "\n",
        "if alert == \"debit\":\n",
        "  print(\"Billing again, God abeg\")\n",
        "elif alert == \"credit\":\n",
        "  print(\"Guy you don hammer\")\n",
        "else:\n",
        "  print(\"What's that\")"
      ],
      "metadata": {
        "colab": {
          "base_uri": "https://localhost:8080/"
        },
        "id": "FgG7pHbLkYKN",
        "outputId": "ef006452-13c4-4285-e79f-88bffe4a7456"
      },
      "execution_count": null,
      "outputs": [
        {
          "output_type": "stream",
          "name": "stdout",
          "text": [
            "What's that\n"
          ]
        }
      ]
    },
    {
      "cell_type": "code",
      "source": [
        "game = input(\"Enter your game: \").lower()\n",
        "if game == \"call of duty\":\n",
        "  print(\"You are a tactical guy\")\n",
        "elif game == \"gta\":\n",
        "  print(\"Everything is possible\")\n",
        "elif game == \"chess\":\n",
        "  print(\"Mastermind!\")\n",
        "elif game == \"candy crush\":\n",
        "  print(\"Passing time\")\n",
        "elif game == \"among us\":\n",
        "  print(\"where is your child\")\n",
        "else:\n",
        "  print(\"game not in database\")"
      ],
      "metadata": {
        "colab": {
          "base_uri": "https://localhost:8080/"
        },
        "id": "cOomQ_SVkcgV",
        "outputId": "f3df027e-e53d-458d-83d8-4fd9518ee03f"
      },
      "execution_count": null,
      "outputs": [
        {
          "output_type": "stream",
          "name": "stdout",
          "text": [
            "Enter your game: chess\n",
            "Mastermind!\n"
          ]
        }
      ]
    },
    {
      "cell_type": "code",
      "source": [
        "mood = input(\"how are you feeling? \").lower()\n",
        "\n",
        "if mood == \"sad\":\n",
        "  print(\"Go to a comedy show\")\n",
        "elif mood == \"happy\":\n",
        "  print(\"Do giveaway\")\n",
        "elif mood == \"angry\" or mood == \"hungry\":\n",
        "  print(\"Calm down and get some food\")\n",
        "elif mood == \"moody\" or mood == \"anxious\":\n",
        "  print(\"Listen to music and pray\")\n",
        "else:\n",
        "  print(\"Just sleep\")\n"
      ],
      "metadata": {
        "colab": {
          "base_uri": "https://localhost:8080/"
        },
        "id": "mZpNUanjkerP",
        "outputId": "29632def-d465-4e82-9448-4399823cdbdb"
      },
      "execution_count": null,
      "outputs": [
        {
          "output_type": "stream",
          "name": "stdout",
          "text": [
            "how are you feeling? Happy\n",
            "Do giveaway\n"
          ]
        }
      ]
    },
    {
      "cell_type": "code",
      "source": [
        "has_a_dog = True\n",
        "if has_a_dog is True:\n",
        "  print (\"black yega\")"
      ],
      "metadata": {
        "colab": {
          "base_uri": "https://localhost:8080/"
        },
        "id": "a3Tb4SLim4vn",
        "outputId": "b300d4c2-6820-46e3-94db-c2568e6a43d0"
      },
      "execution_count": null,
      "outputs": [
        {
          "output_type": "stream",
          "name": "stdout",
          "text": [
            "black yega\n"
          ]
        }
      ]
    },
    {
      "cell_type": "code",
      "source": [
        "name = \"john wick\"\n",
        "if name is name:\n",
        "  print (\"hello john\")"
      ],
      "metadata": {
        "colab": {
          "base_uri": "https://localhost:8080/"
        },
        "id": "xO2JRboJnkvP",
        "outputId": "2d4489e8-18bc-4743-8773-1f1b09ed8ecc"
      },
      "execution_count": null,
      "outputs": [
        {
          "output_type": "stream",
          "name": "stdout",
          "text": [
            "hello john\n"
          ]
        }
      ]
    },
    {
      "cell_type": "code",
      "source": [
        "gpa = 4.5\n",
        "income = 10000\n",
        "if gpa > 4.0:\n",
        "  if income > 20000:\n",
        "    print(\"Not eligible\")\n",
        "  else:\n",
        "    print(\"Eligible\")"
      ],
      "metadata": {
        "colab": {
          "base_uri": "https://localhost:8080/"
        },
        "id": "Vs1-UCSqoE_l",
        "outputId": "57467553-3984-49d3-f428-9198573c7c54"
      },
      "execution_count": null,
      "outputs": [
        {
          "output_type": "stream",
          "name": "stdout",
          "text": [
            "Eligible\n"
          ]
        }
      ]
    },
    {
      "cell_type": "code",
      "source": [
        "temperature = 15\n",
        "if temperature >30:\n",
        "  print (\"it's warm\")\n",
        "  print (\"drink water\")\n",
        "print (\"done\")"
      ],
      "metadata": {
        "id": "2PUK_44T3NWX",
        "colab": {
          "base_uri": "https://localhost:8080/"
        },
        "outputId": "d1c88411-7e91-4eb2-ba77-b03b8efa4414"
      },
      "execution_count": null,
      "outputs": [
        {
          "output_type": "stream",
          "name": "stdout",
          "text": [
            "done\n"
          ]
        }
      ]
    },
    {
      "cell_type": "code",
      "source": [
        "high_income = False\n",
        "good_credit = True\n",
        "if good_credit == False:\n",
        "     print(\"Not eligible\")\n",
        "else:\n",
        "     if high_income == \"True\":\n",
        "         print(\"Eligible\")\n",
        "     else:\n",
        "         print(\"Not eligible\")"
      ],
      "metadata": {
        "colab": {
          "base_uri": "https://localhost:8080/"
        },
        "id": "Cw9u-yaiMmtU",
        "outputId": "f5ffda73-e4f8-4c41-dd5b-fd73f7bf468a"
      },
      "execution_count": null,
      "outputs": [
        {
          "output_type": "stream",
          "name": "stdout",
          "text": [
            "Not eligible\n"
          ]
        }
      ]
    },
    {
      "cell_type": "code",
      "source": [
        "high_income = False\n",
        "good_credit = True\n",
        "\n",
        "if good_credit == False:\n",
        "    print(\"Not eligible\")\n",
        "else:\n",
        "    if high_income == \"True\":\n",
        "        print(\"Eligible\")\n",
        "    else:\n",
        "        print(\"Not eligible\")"
      ],
      "metadata": {
        "colab": {
          "base_uri": "https://localhost:8080/"
        },
        "id": "c325wyCHMs8W",
        "outputId": "8116b69e-e904-42e1-eac2-5367c8febe8c"
      },
      "execution_count": null,
      "outputs": [
        {
          "output_type": "stream",
          "name": "stdout",
          "text": [
            "Not eligible\n"
          ]
        }
      ]
    },
    {
      "cell_type": "code",
      "source": [
        "high_income = False\n",
        "good_credit = True\n",
        "if good_credit == False:\n",
        "     print(\"Not eligible\")\n",
        "else:\n",
        "     if high_income == \"True\":\n",
        "         print(\"Eligible\")\n",
        "     else:\n",
        "         print(\"Not eligible\")"
      ],
      "metadata": {
        "colab": {
          "base_uri": "https://localhost:8080/"
        },
        "id": "8xHpyk0sNFp8",
        "outputId": "4217914c-647f-427b-a2ca-e1d3ca26193e"
      },
      "execution_count": null,
      "outputs": [
        {
          "output_type": "stream",
          "name": "stdout",
          "text": [
            "Not eligible\n"
          ]
        }
      ]
    },
    {
      "cell_type": "code",
      "source": [
        "dangote = \"richest man in Africa\"\n",
        "if dangote is \"richest man in Africa\":\n",
        "    print(\"That is correct\")\n",
        "else:\n",
        "    print(\"Fake news\")"
      ],
      "metadata": {
        "colab": {
          "base_uri": "https://localhost:8080/"
        },
        "id": "ROoBPKioNXGY",
        "outputId": "eaa66eea-acc0-4027-c6a7-6ebbced4668c"
      },
      "execution_count": null,
      "outputs": [
        {
          "output_type": "stream",
          "name": "stdout",
          "text": [
            "Fake news\n"
          ]
        },
        {
          "output_type": "stream",
          "name": "stderr",
          "text": [
            "<>:2: SyntaxWarning: \"is\" with 'str' literal. Did you mean \"==\"?\n",
            "<>:2: SyntaxWarning: \"is\" with 'str' literal. Did you mean \"==\"?\n",
            "/tmp/ipython-input-98751655.py:2: SyntaxWarning: \"is\" with 'str' literal. Did you mean \"==\"?\n",
            "  if dangote is \"richest man in Africa\":\n"
          ]
        }
      ]
    },
    {
      "cell_type": "code",
      "source": [
        "level = 50\n",
        "if level > 75:\n",
        "  print (\"high\")\n",
        "elif level > 25:\n",
        "  print (\"normal\")\n",
        "else:\n",
        "  print (\"low\")"
      ],
      "metadata": {
        "colab": {
          "base_uri": "https://localhost:8080/"
        },
        "id": "D0xBfXq5Oicy",
        "outputId": "ef659666-afa8-444c-d728-d61fc865208d"
      },
      "execution_count": null,
      "outputs": [
        {
          "output_type": "stream",
          "name": "stdout",
          "text": [
            "normal\n"
          ]
        }
      ]
    },
    {
      "cell_type": "markdown",
      "source": [
        "Setting up a simple ATM simulator"
      ],
      "metadata": {
        "id": "_j6nMU_AZQX1"
      }
    },
    {
      "cell_type": "code",
      "source": [
        "#Settin up a simple ATM Simulator\n",
        "# Set your own PIN\n",
        "set_pin = input(\"Set your 4-digit PIN: \")\n",
        "print(\"PIN set successfully!\\n\")\n",
        "\n",
        "# PIN verification\n",
        "pin = input(\"Enter your 4-digit PIN to access your account: \")\n",
        "\n",
        "balance = 1000.0\n",
        "\n",
        "def atm_menu():\n",
        "  # declare balance as global at the start\n",
        "    global balance\n",
        "    print(\"\\n1. Check Balance\")\n",
        "    print(\"2. Deposit Money\")\n",
        "    print(\"3. Withdraw Money\")\n",
        "    choice = input(\"Select an option (1-3): \")\n",
        "\n",
        "    if choice == \"1\":\n",
        "        print(\"Your current balance is:\", balance)\n",
        "    elif choice == \"2\":\n",
        "        amount = float(input(\"Enter amount to deposit: \"))\n",
        "        balance += amount\n",
        "        print(\"Deposit successful. New balance:\", balance)\n",
        "    elif choice == \"3\":\n",
        "        amount = float(input(\"Enter amount to withdraw: \"))\n",
        "        if amount <= balance:\n",
        "            balance -= amount\n",
        "            print(\"Withdrawal successful. Remaining balance:\", balance)\n",
        "        else:\n",
        "            print(\"Insufficient funds.\")\n",
        "    else:\n",
        "      # call itself again for invalid input\n",
        "        print(\"Invalid option. Please select 1, 2, or 3.\")\n",
        "        atm_menu()\n",
        "if pin == set_pin:\n",
        "    print(\"Access granted!\")\n",
        "    atm_menu()\n",
        "else:\n",
        "    print(\"Incorrect PIN.\")"
      ],
      "metadata": {
        "colab": {
          "base_uri": "https://localhost:8080/"
        },
        "id": "XUx_BC_UY_l2",
        "outputId": "29a25369-8aa4-448d-963d-6bcf04c7fde5"
      },
      "execution_count": null,
      "outputs": [
        {
          "output_type": "stream",
          "name": "stdout",
          "text": [
            "Set your 4-digit PIN: 1234\n",
            "PIN set successfully!\n",
            "\n",
            "Enter your 4-digit PIN to access your account: 1234\n",
            "Access granted!\n",
            "\n",
            "1. Check Balance\n",
            "2. Deposit Money\n",
            "3. Withdraw Money\n",
            "Select an option (1-3): 3\n",
            "Enter amount to withdraw: 400\n",
            "Withdrawal successful. Remaining balance: 600.0\n"
          ]
        }
      ]
    },
    {
      "cell_type": "code",
      "source": [
        "nums = [4,2,6]\n",
        "print (max(nums))"
      ],
      "metadata": {
        "id": "YE3CEUOgj9fA",
        "colab": {
          "base_uri": "https://localhost:8080/"
        },
        "outputId": "7c72f267-a655-4cf6-d4ab-40cb1a731908"
      },
      "execution_count": null,
      "outputs": [
        {
          "output_type": "stream",
          "name": "stdout",
          "text": [
            "6\n"
          ]
        }
      ]
    },
    {
      "cell_type": "code",
      "source": [
        "num = 7\n",
        "print (num)"
      ],
      "metadata": {
        "id": "2ak022eVTyHE",
        "colab": {
          "base_uri": "https://localhost:8080/"
        },
        "outputId": "04aa8443-2660-4b4f-b30c-15a5da2036a7"
      },
      "execution_count": null,
      "outputs": [
        {
          "output_type": "stream",
          "name": "stdout",
          "text": [
            "7\n"
          ]
        }
      ]
    },
    {
      "cell_type": "code",
      "source": [],
      "metadata": {
        "id": "orkv6irrh1tS"
      },
      "execution_count": null,
      "outputs": []
    },
    {
      "cell_type": "markdown",
      "source": [
        "Nesting conditional statements.\n",
        "it is the practice of placing one programming construct such as loop,"
      ],
      "metadata": {
        "id": "FjT7X125wtAb"
      }
    },
    {
      "cell_type": "code",
      "source": [
        "new_user = input(\"are you a new user(y/n)\").lower()\n",
        "restaurant= input(\"choose yoour shop:\").lower()\n",
        "if new_user == \"y\":\n",
        "  if restaurant == \"chicken republic\":\n",
        "    print (\"Get 50% discount\")\n",
        "  else:\n",
        "    print (\"Get 20% discount\")\n",
        "else:\n",
        "    print (\"Get 15% discount\")"
      ],
      "metadata": {
        "colab": {
          "base_uri": "https://localhost:8080/"
        },
        "id": "x8x5QDs3xCUl",
        "outputId": "232064d5-c710-4a7f-acdc-b4084be765c8"
      },
      "execution_count": null,
      "outputs": [
        {
          "output_type": "stream",
          "name": "stdout",
          "text": [
            "are you a new user(y/n)y\n",
            "choose yoour shop:item 7\n",
            "Get 20% discount\n"
          ]
        }
      ]
    },
    {
      "cell_type": "code",
      "source": [
        "# university admission\n",
        "jab_score = 300\n",
        "post_utme = 30\n",
        "if jab_score > 270:\n",
        "  if jab_score > 240 and post_utme > 30:\n",
        "    print (\"medicine is your path\")\n",
        "  elif jab_score > 280 and post_utme > 30:\n",
        "    print (\"join engineering\")\n",
        "  else:\n",
        "    print (\"engineering is not the end of the world\")\n",
        "else:\n",
        "  if jab_score > 250:\n",
        "    print (\"there is fishery\")\n",
        "  else:\n",
        "    print(\"try polytechnics or come next year\")\n"
      ],
      "metadata": {
        "colab": {
          "base_uri": "https://localhost:8080/"
        },
        "id": "vjkrymj7yQzM",
        "outputId": "1cf5b8ea-7dff-4625-edfb-02ade54bef8b"
      },
      "execution_count": null,
      "outputs": [
        {
          "output_type": "stream",
          "name": "stdout",
          "text": [
            "engineering is not the end of the world\n"
          ]
        }
      ]
    },
    {
      "cell_type": "code",
      "source": [
        "# identity operators used to confirm two objects in python. check the id of a variable using id()function\n",
        "name = \"John\"\n",
        "id(name)"
      ],
      "metadata": {
        "colab": {
          "base_uri": "https://localhost:8080/"
        },
        "id": "SvqZCmxp0uiY",
        "outputId": "ecdb1db7-c2eb-4e77-8e74-1f369181e33c"
      },
      "execution_count": null,
      "outputs": [
        {
          "output_type": "execute_result",
          "data": {
            "text/plain": [
              "135335882233040"
            ]
          },
          "metadata": {},
          "execution_count": 10
        }
      ]
    },
    {
      "cell_type": "code",
      "source": [
        "name = \"Gilbert\"\n",
        "id (name)"
      ],
      "metadata": {
        "colab": {
          "base_uri": "https://localhost:8080/"
        },
        "id": "kf9_ENyT2-AN",
        "outputId": "d2f0f4b9-6b7f-459c-f164-0130df12e793"
      },
      "execution_count": null,
      "outputs": [
        {
          "output_type": "execute_result",
          "data": {
            "text/plain": [
              "135335882243984"
            ]
          },
          "metadata": {},
          "execution_count": 11
        }
      ]
    },
    {
      "cell_type": "code",
      "source": [
        "times_called = 5\n",
        "half_of_10 = 5\n",
        "id(times_called) == id(half_of_10)"
      ],
      "metadata": {
        "colab": {
          "base_uri": "https://localhost:8080/"
        },
        "id": "xbEtWOP73HcB",
        "outputId": "3b8aa4e0-bb51-4ef5-a1e6-3d44b672715c"
      },
      "execution_count": null,
      "outputs": [
        {
          "output_type": "execute_result",
          "data": {
            "text/plain": [
              "True"
            ]
          },
          "metadata": {},
          "execution_count": 12
        }
      ]
    },
    {
      "cell_type": "code",
      "source": [
        "print(id(True))\n",
        "is_rich = True\n",
        "id(is_rich)"
      ],
      "metadata": {
        "colab": {
          "base_uri": "https://localhost:8080/"
        },
        "id": "aPWmDYQl30eu",
        "outputId": "74ce9935-1285-4741-a973-ebc706f82813"
      },
      "execution_count": null,
      "outputs": [
        {
          "output_type": "stream",
          "name": "stdout",
          "text": [
            "10557792\n"
          ]
        },
        {
          "output_type": "execute_result",
          "data": {
            "text/plain": [
              "10557792"
            ]
          },
          "metadata": {},
          "execution_count": 13
        }
      ]
    },
    {
      "cell_type": "code",
      "source": [
        "is_fisherman = False\n",
        "id(False) == id(is_fisherman)"
      ],
      "metadata": {
        "colab": {
          "base_uri": "https://localhost:8080/"
        },
        "id": "4jOT_JYU45vn",
        "outputId": "fa58ce29-fdbd-487b-98fe-9cbdf93fc05d"
      },
      "execution_count": null,
      "outputs": [
        {
          "output_type": "execute_result",
          "data": {
            "text/plain": [
              "True"
            ]
          },
          "metadata": {},
          "execution_count": 14
        }
      ]
    },
    {
      "cell_type": "code",
      "source": [
        "team = input(\"Enter your team: \").lower()\n",
        "match team:\n",
        "  case \"real madrid\":\n",
        "    print(\"15 times champions league winner\")\n",
        "  case \"chelsea\":\n",
        "    print(\"World champions\")\n",
        "  case \"manchester united\":\n",
        "    print(\"20 times champions league winner\")\n",
        "  case \"arsenal\":\n",
        "    print(\"Come back next season\")\n",
        "  case _:\n",
        "    print(\"You dont matter or wrong input\")\n"
      ],
      "metadata": {
        "colab": {
          "base_uri": "https://localhost:8080/"
        },
        "id": "sbKrr3Gz7sPF",
        "outputId": "ba70ced7-74c8-4113-ca65-4136deb091a4"
      },
      "execution_count": null,
      "outputs": [
        {
          "output_type": "stream",
          "name": "stdout",
          "text": [
            "Enter your team: Tottenham\n",
            "You dont matter or wrong input\n"
          ]
        }
      ]
    },
    {
      "cell_type": "code",
      "source": [
        "price_change = -5\n",
        "match price_change:\n",
        "  case 10:\n",
        "    print (\"to the moon\")\n",
        "  case 0:\n",
        "    print (\"prayers up\")\n",
        "  case -5:\n",
        "    print (\"delete binance\")"
      ],
      "metadata": {
        "colab": {
          "base_uri": "https://localhost:8080/"
        },
        "id": "jIhcVSgH9XDz",
        "outputId": "2d71de49-b5d7-4db5-87f8-c8122b8900dc"
      },
      "execution_count": null,
      "outputs": [
        {
          "output_type": "stream",
          "name": "stdout",
          "text": [
            "delete binance\n"
          ]
        }
      ]
    },
    {
      "cell_type": "code",
      "source": [
        "x = 10\n",
        "y = 10\n",
        "print(x is y)"
      ],
      "metadata": {
        "colab": {
          "base_uri": "https://localhost:8080/"
        },
        "id": "eSGIpA8s97Bp",
        "outputId": "1217c964-3b1b-4bbb-960e-38000776206c"
      },
      "execution_count": null,
      "outputs": [
        {
          "output_type": "stream",
          "name": "stdout",
          "text": [
            "True\n"
          ]
        }
      ]
    },
    {
      "cell_type": "code",
      "source": [
        "a = 5\n",
        "b = 5.0\n",
        "print(a is b)"
      ],
      "metadata": {
        "colab": {
          "base_uri": "https://localhost:8080/"
        },
        "id": "nVkECNsBg7Ue",
        "outputId": "be0de1c7-1471-46b4-cfe1-f6d79b3f7f82"
      },
      "execution_count": null,
      "outputs": [
        {
          "output_type": "stream",
          "name": "stdout",
          "text": [
            "False\n"
          ]
        }
      ]
    },
    {
      "cell_type": "code",
      "source": [
        "match \"apple\":\n",
        "  case \"banana\":\n",
        "    print(\"yellow fruit\")\n",
        "  case \"apple\":\n",
        "    print(\"red fruit\")\n",
        "  case \"_\":\n",
        "    print(\"unknown fruit\")"
      ],
      "metadata": {
        "colab": {
          "base_uri": "https://localhost:8080/"
        },
        "id": "mB_KXytlh6P2",
        "outputId": "113f60fa-f4f7-49c4-a911-930545db9b05"
      },
      "execution_count": null,
      "outputs": [
        {
          "output_type": "stream",
          "name": "stdout",
          "text": [
            "red fruit\n"
          ]
        }
      ]
    },
    {
      "cell_type": "code",
      "source": [
        "is_ready = True\n",
        "id(True)==id(is_ready)"
      ],
      "metadata": {
        "colab": {
          "base_uri": "https://localhost:8080/"
        },
        "id": "DcW-mWE-i6JY",
        "outputId": "86a2ccb0-636d-4330-c49b-cf853719b904"
      },
      "execution_count": null,
      "outputs": [
        {
          "output_type": "execute_result",
          "data": {
            "text/plain": [
              "True"
            ]
          },
          "metadata": {},
          "execution_count": 9
        }
      ]
    },
    {
      "cell_type": "code",
      "source": [
        "nums = [1,2]\n",
        "squares = [x* x for x in nums]\n",
        "print (squares)"
      ],
      "metadata": {
        "colab": {
          "base_uri": "https://localhost:8080/"
        },
        "id": "Uu08fWyjgitb",
        "outputId": "47b6593d-fc1c-4a44-f7f8-3aedda36f317"
      },
      "execution_count": null,
      "outputs": [
        {
          "output_type": "stream",
          "name": "stdout",
          "text": [
            "[1, 4]\n"
          ]
        }
      ]
    },
    {
      "cell_type": "code",
      "source": [
        "# A simple mood chat bot\n",
        "print(\"Hello! I am your friendly chat moot bot\")\n",
        "mood = input(\"How are you feeling today? (sad, happy, tired, bored:\").lower()\n",
        "if mood == \"happy\":\n",
        "  activity = input(\"Nice! What are you doing right now?(working, relaxing,studying, excercising):\").lower()\n",
        "  if activity ==\"working\":\n",
        "    print(\"That's great! Keep up the positive energy and share your smiling at work\")\n",
        "  elif activity == \"relaxing\":\n",
        "    print (\"Pefect combo! Enjoy the moment and maybe listen to your favourite playlist\")\n",
        "  elif activity == \"studying\":\n",
        "    print(\"Learning with a happy mood? You're unstopable!\")\n",
        "  else:\n",
        "    print(\"Keep shining and spreading positivity whenever you go\")\n",
        "elif mood == \"sad\":\n",
        "  activity = input(\"Sorry to hear that. What are you doing right now? (resting, working, alone, sleeping):\").lower()\n",
        "  if activity == \"resting\":\n",
        "    print(\"Rest well. A nap and a good meal as well as music might help you feel better\")\n",
        "  elif activity == \"alone\":\n",
        "    print(\"You can call a friend or watch something funny, it might lift your mood\")\n",
        "  else:\n",
        "    print(\"Remember, it's okay to feel sad sometimes. You're doing your best\")\n",
        "elif activity ==\"bored\":\n",
        "  activity = input(\"Hmm, maybe I can help! Are you indoors or outdoors\").lower()\n",
        "  if activity == \"indoors\":\n",
        "    print(\"Try a new hobby, a movie, or maybe learn something new online!\")\n",
        "  else:\n",
        "    print(\"Go for a short walk or play some music_fresh air works wonders\")\n",
        "elif mood ==\"tired\":\n",
        "  activity = input(\"Aww, that happens! Are you done with the tasks for the day? (yes/no):\").lower()\n",
        "  if activity == \"yes\":\n",
        "    print(\"Then you've earned a good rest! Treat yourself to some relaxation\")\n",
        "  else:\n",
        "    print(\"Take a short break and hydrate, you'll feel better soon\")\n",
        "else:\n",
        "  print(\"I'm not sure I understand, but I hope you're doing okay\")\n",
        "print(\"Thanks for chatting with me! Take care! Cheers\")\n",
        "\n"
      ],
      "metadata": {
        "id": "oRPHjj0VgzRh",
        "colab": {
          "base_uri": "https://localhost:8080/"
        },
        "outputId": "f3105e24-2db8-4a99-cea5-539b6f79c672"
      },
      "execution_count": null,
      "outputs": [
        {
          "output_type": "stream",
          "name": "stdout",
          "text": [
            "Hello! I am your friendly chat moot bot\n",
            "How are you feeling today? (sad, happy, tired, bored:happy\n",
            "Nice! What are you doing right now?(working, relaxing,studying, excercising):studying\n",
            "Learning with a happy mood? You're unstopable!\n"
          ]
        }
      ]
    },
    {
      "cell_type": "code",
      "source": [],
      "metadata": {
        "id": "ud2YMxdAGNhY"
      },
      "execution_count": null,
      "outputs": []
    }
  ]
}